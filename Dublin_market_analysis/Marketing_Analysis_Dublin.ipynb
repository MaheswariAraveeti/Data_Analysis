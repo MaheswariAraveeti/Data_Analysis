{
 "cells": [
  {
   "cell_type": "code",
   "execution_count": 1,
   "id": "8e59f671",
   "metadata": {},
   "outputs": [],
   "source": [
    "import numpy as np\n",
    "import pandas as pd\n",
    "import matplotlib.pyplot as plt\n",
    "import seaborn as sns"
   ]
  },
  {
   "cell_type": "code",
   "execution_count": 2,
   "id": "4cf6f376",
   "metadata": {},
   "outputs": [],
   "source": [
    "contacts = pd.read_csv('contacts.tsv', sep = \"\\t\")"
   ]
  },
  {
   "cell_type": "code",
   "execution_count": 3,
   "id": "44febace",
   "metadata": {},
   "outputs": [
    {
     "data": {
      "text/html": [
       "<div>\n",
       "<style scoped>\n",
       "    .dataframe tbody tr th:only-of-type {\n",
       "        vertical-align: middle;\n",
       "    }\n",
       "\n",
       "    .dataframe tbody tr th {\n",
       "        vertical-align: top;\n",
       "    }\n",
       "\n",
       "    .dataframe thead th {\n",
       "        text-align: right;\n",
       "    }\n",
       "</style>\n",
       "<table border=\"1\" class=\"dataframe\">\n",
       "  <thead>\n",
       "    <tr style=\"text-align: right;\">\n",
       "      <th></th>\n",
       "      <th>id_guest</th>\n",
       "      <th>id_host</th>\n",
       "      <th>id_listing</th>\n",
       "      <th>ts_contact_at</th>\n",
       "      <th>ts_reply_at</th>\n",
       "      <th>ts_accepted_at</th>\n",
       "      <th>ts_booking_at</th>\n",
       "      <th>ds_checkin</th>\n",
       "      <th>ds_checkout</th>\n",
       "      <th>n_guests</th>\n",
       "      <th>n_messages</th>\n",
       "    </tr>\n",
       "  </thead>\n",
       "  <tbody>\n",
       "    <tr>\n",
       "      <th>0</th>\n",
       "      <td>000dfad9-459b-4f0b-8310-3d6ab34e4f57</td>\n",
       "      <td>13bb24b8-d432-43a2-9755-5ea11b43bb69</td>\n",
       "      <td>21d2b1a2-fdc3-4b4c-a1f0-0eaf0cc02370</td>\n",
       "      <td>2014-10-04 16:26:28.0</td>\n",
       "      <td>2014-10-04 16:26:28.0</td>\n",
       "      <td>2014-10-04 16:26:28.0</td>\n",
       "      <td>2014-10-04 16:26:28.0</td>\n",
       "      <td>2014-10-13</td>\n",
       "      <td>2014-10-15</td>\n",
       "      <td>2</td>\n",
       "      <td>13</td>\n",
       "    </tr>\n",
       "    <tr>\n",
       "      <th>1</th>\n",
       "      <td>00197051-c6cb-4c3a-99e9-86615b819874</td>\n",
       "      <td>46aa3897-9c00-4d76-ac66-a307593d0675</td>\n",
       "      <td>fb5ed09a-9848-4f2c-b2ef-34deb62164fb</td>\n",
       "      <td>2014-11-04 09:10:03.0</td>\n",
       "      <td>2014-11-04 09:45:50.0</td>\n",
       "      <td>2014-11-04 09:45:50.0</td>\n",
       "      <td>2014-11-04 12:20:46.0</td>\n",
       "      <td>2014-11-27</td>\n",
       "      <td>2014-11-30</td>\n",
       "      <td>1</td>\n",
       "      <td>10</td>\n",
       "    </tr>\n",
       "    <tr>\n",
       "      <th>2</th>\n",
       "      <td>0027538e-aa9e-4a02-8979-b8397e5d4cba</td>\n",
       "      <td>6bbb88ca-db66-48c5-9c4b-862f7706284a</td>\n",
       "      <td>d3871da6-8012-4dc4-b508-c91f2c10c297</td>\n",
       "      <td>2014-10-10 12:02:50.0</td>\n",
       "      <td>2014-10-10 15:07:01.0</td>\n",
       "      <td>NaN</td>\n",
       "      <td>NaN</td>\n",
       "      <td>2014-10-17</td>\n",
       "      <td>2014-10-19</td>\n",
       "      <td>2</td>\n",
       "      <td>3</td>\n",
       "    </tr>\n",
       "    <tr>\n",
       "      <th>3</th>\n",
       "      <td>0027538e-aa9e-4a02-8979-b8397e5d4cba</td>\n",
       "      <td>8772bc85-a9b7-4d85-a52d-41f3620c2912</td>\n",
       "      <td>0d9b5583-8053-4b67-adfe-8c29eb12efed</td>\n",
       "      <td>2014-10-10 15:23:53.0</td>\n",
       "      <td>NaN</td>\n",
       "      <td>NaN</td>\n",
       "      <td>NaN</td>\n",
       "      <td>2014-10-17</td>\n",
       "      <td>2014-10-19</td>\n",
       "      <td>2</td>\n",
       "      <td>2</td>\n",
       "    </tr>\n",
       "    <tr>\n",
       "      <th>4</th>\n",
       "      <td>0027538e-aa9e-4a02-8979-b8397e5d4cba</td>\n",
       "      <td>ac162061-55e2-4072-ac91-2e080f9581f2</td>\n",
       "      <td>ec68e0af-b0f2-42c7-b6f8-d41061c083ff</td>\n",
       "      <td>2014-10-10 15:22:26.0</td>\n",
       "      <td>2014-10-10 15:24:26.0</td>\n",
       "      <td>2014-10-10 15:24:26.0</td>\n",
       "      <td>2014-10-10 15:52:42.0</td>\n",
       "      <td>2014-10-17</td>\n",
       "      <td>2014-10-19</td>\n",
       "      <td>2</td>\n",
       "      <td>14</td>\n",
       "    </tr>\n",
       "    <tr>\n",
       "      <th>...</th>\n",
       "      <td>...</td>\n",
       "      <td>...</td>\n",
       "      <td>...</td>\n",
       "      <td>...</td>\n",
       "      <td>...</td>\n",
       "      <td>...</td>\n",
       "      <td>...</td>\n",
       "      <td>...</td>\n",
       "      <td>...</td>\n",
       "      <td>...</td>\n",
       "      <td>...</td>\n",
       "    </tr>\n",
       "    <tr>\n",
       "      <th>7818</th>\n",
       "      <td>ffe366f0-6ab6-4e94-818a-c69c125fed3c</td>\n",
       "      <td>8be6bf94-aeb3-4a51-8ac4-db60baedfea1</td>\n",
       "      <td>7732bad8-e800-49f3-8751-e7604e3fb5a3</td>\n",
       "      <td>2014-10-07 21:43:00.0</td>\n",
       "      <td>2014-10-08 08:19:33.0</td>\n",
       "      <td>2014-10-08 08:19:33.0</td>\n",
       "      <td>NaN</td>\n",
       "      <td>2014-10-17</td>\n",
       "      <td>2014-10-20</td>\n",
       "      <td>2</td>\n",
       "      <td>5</td>\n",
       "    </tr>\n",
       "    <tr>\n",
       "      <th>7819</th>\n",
       "      <td>ffe366f0-6ab6-4e94-818a-c69c125fed3c</td>\n",
       "      <td>b92639c1-a5a8-48f6-8484-4fe6f62d1c6d</td>\n",
       "      <td>cc3a6bd4-d64f-4cbe-b947-c36c3851b487</td>\n",
       "      <td>2014-10-13 15:38:28.0</td>\n",
       "      <td>2014-10-13 15:44:56.0</td>\n",
       "      <td>NaN</td>\n",
       "      <td>NaN</td>\n",
       "      <td>2014-10-17</td>\n",
       "      <td>2014-10-20</td>\n",
       "      <td>2</td>\n",
       "      <td>5</td>\n",
       "    </tr>\n",
       "    <tr>\n",
       "      <th>7820</th>\n",
       "      <td>ffe366f0-6ab6-4e94-818a-c69c125fed3c</td>\n",
       "      <td>d0b6d89a-4379-43f2-9560-4943df5b8f4f</td>\n",
       "      <td>6e5b4380-66d2-4f2a-8f89-d2794598997d</td>\n",
       "      <td>2014-10-13 15:40:49.0</td>\n",
       "      <td>2014-10-13 15:42:46.0</td>\n",
       "      <td>NaN</td>\n",
       "      <td>NaN</td>\n",
       "      <td>2014-10-17</td>\n",
       "      <td>2014-10-20</td>\n",
       "      <td>2</td>\n",
       "      <td>3</td>\n",
       "    </tr>\n",
       "    <tr>\n",
       "      <th>7821</th>\n",
       "      <td>ffe366f0-6ab6-4e94-818a-c69c125fed3c</td>\n",
       "      <td>f86bc9ab-e199-4254-8609-fd67d6aaed42</td>\n",
       "      <td>28caf371-6d1d-4e06-aaf1-e660966ac7a1</td>\n",
       "      <td>2014-10-07 21:30:31.0</td>\n",
       "      <td>2014-10-08 19:04:43.0</td>\n",
       "      <td>NaN</td>\n",
       "      <td>NaN</td>\n",
       "      <td>2014-10-17</td>\n",
       "      <td>2014-10-20</td>\n",
       "      <td>2</td>\n",
       "      <td>2</td>\n",
       "    </tr>\n",
       "    <tr>\n",
       "      <th>7822</th>\n",
       "      <td>fffea166-9432-43a7-8b1b-09d6f30c1c07</td>\n",
       "      <td>6d656267-642e-4972-bdec-a35d82b84ebb</td>\n",
       "      <td>90dddef6-23ef-4df3-b454-8fd3d0e8cade</td>\n",
       "      <td>2014-10-08 00:05:05.0</td>\n",
       "      <td>2014-10-12 20:58:12.0</td>\n",
       "      <td>NaN</td>\n",
       "      <td>NaN</td>\n",
       "      <td>2014-11-11</td>\n",
       "      <td>2014-11-18</td>\n",
       "      <td>2</td>\n",
       "      <td>2</td>\n",
       "    </tr>\n",
       "  </tbody>\n",
       "</table>\n",
       "<p>7823 rows × 11 columns</p>\n",
       "</div>"
      ],
      "text/plain": [
       "                                  id_guest  \\\n",
       "0     000dfad9-459b-4f0b-8310-3d6ab34e4f57   \n",
       "1     00197051-c6cb-4c3a-99e9-86615b819874   \n",
       "2     0027538e-aa9e-4a02-8979-b8397e5d4cba   \n",
       "3     0027538e-aa9e-4a02-8979-b8397e5d4cba   \n",
       "4     0027538e-aa9e-4a02-8979-b8397e5d4cba   \n",
       "...                                    ...   \n",
       "7818  ffe366f0-6ab6-4e94-818a-c69c125fed3c   \n",
       "7819  ffe366f0-6ab6-4e94-818a-c69c125fed3c   \n",
       "7820  ffe366f0-6ab6-4e94-818a-c69c125fed3c   \n",
       "7821  ffe366f0-6ab6-4e94-818a-c69c125fed3c   \n",
       "7822  fffea166-9432-43a7-8b1b-09d6f30c1c07   \n",
       "\n",
       "                                   id_host  \\\n",
       "0     13bb24b8-d432-43a2-9755-5ea11b43bb69   \n",
       "1     46aa3897-9c00-4d76-ac66-a307593d0675   \n",
       "2     6bbb88ca-db66-48c5-9c4b-862f7706284a   \n",
       "3     8772bc85-a9b7-4d85-a52d-41f3620c2912   \n",
       "4     ac162061-55e2-4072-ac91-2e080f9581f2   \n",
       "...                                    ...   \n",
       "7818  8be6bf94-aeb3-4a51-8ac4-db60baedfea1   \n",
       "7819  b92639c1-a5a8-48f6-8484-4fe6f62d1c6d   \n",
       "7820  d0b6d89a-4379-43f2-9560-4943df5b8f4f   \n",
       "7821  f86bc9ab-e199-4254-8609-fd67d6aaed42   \n",
       "7822  6d656267-642e-4972-bdec-a35d82b84ebb   \n",
       "\n",
       "                                id_listing          ts_contact_at  \\\n",
       "0     21d2b1a2-fdc3-4b4c-a1f0-0eaf0cc02370  2014-10-04 16:26:28.0   \n",
       "1     fb5ed09a-9848-4f2c-b2ef-34deb62164fb  2014-11-04 09:10:03.0   \n",
       "2     d3871da6-8012-4dc4-b508-c91f2c10c297  2014-10-10 12:02:50.0   \n",
       "3     0d9b5583-8053-4b67-adfe-8c29eb12efed  2014-10-10 15:23:53.0   \n",
       "4     ec68e0af-b0f2-42c7-b6f8-d41061c083ff  2014-10-10 15:22:26.0   \n",
       "...                                    ...                    ...   \n",
       "7818  7732bad8-e800-49f3-8751-e7604e3fb5a3  2014-10-07 21:43:00.0   \n",
       "7819  cc3a6bd4-d64f-4cbe-b947-c36c3851b487  2014-10-13 15:38:28.0   \n",
       "7820  6e5b4380-66d2-4f2a-8f89-d2794598997d  2014-10-13 15:40:49.0   \n",
       "7821  28caf371-6d1d-4e06-aaf1-e660966ac7a1  2014-10-07 21:30:31.0   \n",
       "7822  90dddef6-23ef-4df3-b454-8fd3d0e8cade  2014-10-08 00:05:05.0   \n",
       "\n",
       "                ts_reply_at         ts_accepted_at          ts_booking_at  \\\n",
       "0     2014-10-04 16:26:28.0  2014-10-04 16:26:28.0  2014-10-04 16:26:28.0   \n",
       "1     2014-11-04 09:45:50.0  2014-11-04 09:45:50.0  2014-11-04 12:20:46.0   \n",
       "2     2014-10-10 15:07:01.0                    NaN                    NaN   \n",
       "3                       NaN                    NaN                    NaN   \n",
       "4     2014-10-10 15:24:26.0  2014-10-10 15:24:26.0  2014-10-10 15:52:42.0   \n",
       "...                     ...                    ...                    ...   \n",
       "7818  2014-10-08 08:19:33.0  2014-10-08 08:19:33.0                    NaN   \n",
       "7819  2014-10-13 15:44:56.0                    NaN                    NaN   \n",
       "7820  2014-10-13 15:42:46.0                    NaN                    NaN   \n",
       "7821  2014-10-08 19:04:43.0                    NaN                    NaN   \n",
       "7822  2014-10-12 20:58:12.0                    NaN                    NaN   \n",
       "\n",
       "      ds_checkin ds_checkout  n_guests  n_messages  \n",
       "0     2014-10-13  2014-10-15         2          13  \n",
       "1     2014-11-27  2014-11-30         1          10  \n",
       "2     2014-10-17  2014-10-19         2           3  \n",
       "3     2014-10-17  2014-10-19         2           2  \n",
       "4     2014-10-17  2014-10-19         2          14  \n",
       "...          ...         ...       ...         ...  \n",
       "7818  2014-10-17  2014-10-20         2           5  \n",
       "7819  2014-10-17  2014-10-20         2           5  \n",
       "7820  2014-10-17  2014-10-20         2           3  \n",
       "7821  2014-10-17  2014-10-20         2           2  \n",
       "7822  2014-11-11  2014-11-18         2           2  \n",
       "\n",
       "[7823 rows x 11 columns]"
      ]
     },
     "execution_count": 3,
     "metadata": {},
     "output_type": "execute_result"
    }
   ],
   "source": [
    "contacts"
   ]
  },
  {
   "cell_type": "code",
   "execution_count": 4,
   "id": "f505dc71",
   "metadata": {},
   "outputs": [
    {
     "name": "stdout",
     "output_type": "stream",
     "text": [
      "contacts\n",
      "id_guest          0.000000\n",
      "id_host           0.000000\n",
      "id_listing        0.000000\n",
      "ts_contact_at     0.000000\n",
      "ts_reply_at       0.077208\n",
      "ts_accepted_at    0.536367\n",
      "ts_booking_at     0.722101\n",
      "ds_checkin        0.000000\n",
      "ds_checkout       0.000000\n",
      "n_guests          0.000000\n",
      "n_messages        0.000000\n",
      "dtype: float64\n"
     ]
    }
   ],
   "source": [
    "print(\"contacts\")\n",
    "print(contacts.isna().sum()/len(contacts))"
   ]
  },
  {
   "cell_type": "code",
   "execution_count": 5,
   "id": "ca7e58ee",
   "metadata": {},
   "outputs": [],
   "source": [
    "searches = pd.read_csv('searches.tsv', sep = \"\\t\")"
   ]
  },
  {
   "cell_type": "code",
   "execution_count": 6,
   "id": "3a1a7969",
   "metadata": {},
   "outputs": [
    {
     "data": {
      "text/html": [
       "<div>\n",
       "<style scoped>\n",
       "    .dataframe tbody tr th:only-of-type {\n",
       "        vertical-align: middle;\n",
       "    }\n",
       "\n",
       "    .dataframe tbody tr th {\n",
       "        vertical-align: top;\n",
       "    }\n",
       "\n",
       "    .dataframe thead th {\n",
       "        text-align: right;\n",
       "    }\n",
       "</style>\n",
       "<table border=\"1\" class=\"dataframe\">\n",
       "  <thead>\n",
       "    <tr style=\"text-align: right;\">\n",
       "      <th></th>\n",
       "      <th>ds</th>\n",
       "      <th>id_user</th>\n",
       "      <th>ds_checkin</th>\n",
       "      <th>ds_checkout</th>\n",
       "      <th>n_searches</th>\n",
       "      <th>n_nights</th>\n",
       "      <th>n_guests_min</th>\n",
       "      <th>n_guests_max</th>\n",
       "      <th>origin_country</th>\n",
       "      <th>filter_price_min</th>\n",
       "      <th>filter_price_max</th>\n",
       "      <th>filter_room_types</th>\n",
       "      <th>filter_neighborhoods</th>\n",
       "    </tr>\n",
       "  </thead>\n",
       "  <tbody>\n",
       "    <tr>\n",
       "      <th>0</th>\n",
       "      <td>2014-10-01</td>\n",
       "      <td>0000af0a-6f26-4233-9832-27efbfb36148</td>\n",
       "      <td>2014-10-09</td>\n",
       "      <td>2014-10-12</td>\n",
       "      <td>16</td>\n",
       "      <td>3.0</td>\n",
       "      <td>2</td>\n",
       "      <td>2</td>\n",
       "      <td>IE</td>\n",
       "      <td>0.0</td>\n",
       "      <td>6.700000e+01</td>\n",
       "      <td>,Entire home/apt,Entire home/apt,Private room,...</td>\n",
       "      <td>NaN</td>\n",
       "    </tr>\n",
       "    <tr>\n",
       "      <th>1</th>\n",
       "      <td>2014-10-01</td>\n",
       "      <td>0000af0a-6f26-4233-9832-27efbfb36148</td>\n",
       "      <td>2014-10-09</td>\n",
       "      <td>2014-10-19</td>\n",
       "      <td>3</td>\n",
       "      <td>10.0</td>\n",
       "      <td>1</td>\n",
       "      <td>2</td>\n",
       "      <td>IE</td>\n",
       "      <td>0.0</td>\n",
       "      <td>6.700000e+01</td>\n",
       "      <td>NaN</td>\n",
       "      <td>NaN</td>\n",
       "    </tr>\n",
       "    <tr>\n",
       "      <th>2</th>\n",
       "      <td>2014-10-01</td>\n",
       "      <td>000cd9d3-e05b-4016-9e09-34a6f8ba2fc5</td>\n",
       "      <td>NaN</td>\n",
       "      <td>NaN</td>\n",
       "      <td>1</td>\n",
       "      <td>NaN</td>\n",
       "      <td>1</td>\n",
       "      <td>1</td>\n",
       "      <td>GB</td>\n",
       "      <td>NaN</td>\n",
       "      <td>NaN</td>\n",
       "      <td>NaN</td>\n",
       "      <td>NaN</td>\n",
       "    </tr>\n",
       "    <tr>\n",
       "      <th>3</th>\n",
       "      <td>2014-10-01</td>\n",
       "      <td>000cd9d3-e05b-4016-9e09-34a6f8ba2fc5</td>\n",
       "      <td>2014-11-08</td>\n",
       "      <td>2014-11-10</td>\n",
       "      <td>11</td>\n",
       "      <td>2.0</td>\n",
       "      <td>1</td>\n",
       "      <td>2</td>\n",
       "      <td>GB</td>\n",
       "      <td>NaN</td>\n",
       "      <td>NaN</td>\n",
       "      <td>,Entire home/apt</td>\n",
       "      <td>NaN</td>\n",
       "    </tr>\n",
       "    <tr>\n",
       "      <th>4</th>\n",
       "      <td>2014-10-01</td>\n",
       "      <td>001c04f0-5a94-4ee0-bf5d-3591265256de</td>\n",
       "      <td>NaN</td>\n",
       "      <td>NaN</td>\n",
       "      <td>1</td>\n",
       "      <td>NaN</td>\n",
       "      <td>1</td>\n",
       "      <td>1</td>\n",
       "      <td>IE</td>\n",
       "      <td>NaN</td>\n",
       "      <td>NaN</td>\n",
       "      <td>NaN</td>\n",
       "      <td>NaN</td>\n",
       "    </tr>\n",
       "    <tr>\n",
       "      <th>...</th>\n",
       "      <td>...</td>\n",
       "      <td>...</td>\n",
       "      <td>...</td>\n",
       "      <td>...</td>\n",
       "      <td>...</td>\n",
       "      <td>...</td>\n",
       "      <td>...</td>\n",
       "      <td>...</td>\n",
       "      <td>...</td>\n",
       "      <td>...</td>\n",
       "      <td>...</td>\n",
       "      <td>...</td>\n",
       "      <td>...</td>\n",
       "    </tr>\n",
       "    <tr>\n",
       "      <th>35732</th>\n",
       "      <td>2014-10-14</td>\n",
       "      <td>ff3c92ed-ebea-4691-a808-cc6fb73f2f55</td>\n",
       "      <td>NaN</td>\n",
       "      <td>NaN</td>\n",
       "      <td>3</td>\n",
       "      <td>NaN</td>\n",
       "      <td>2</td>\n",
       "      <td>2</td>\n",
       "      <td>US</td>\n",
       "      <td>0.0</td>\n",
       "      <td>1.000000e+02</td>\n",
       "      <td>Entire home/apt</td>\n",
       "      <td>NaN</td>\n",
       "    </tr>\n",
       "    <tr>\n",
       "      <th>35733</th>\n",
       "      <td>2014-10-14</td>\n",
       "      <td>ff61875b-1d27-4ee4-bd4e-36671d3bfed4</td>\n",
       "      <td>NaN</td>\n",
       "      <td>NaN</td>\n",
       "      <td>2</td>\n",
       "      <td>NaN</td>\n",
       "      <td>1</td>\n",
       "      <td>1</td>\n",
       "      <td>US</td>\n",
       "      <td>NaN</td>\n",
       "      <td>NaN</td>\n",
       "      <td>NaN</td>\n",
       "      <td>NaN</td>\n",
       "    </tr>\n",
       "    <tr>\n",
       "      <th>35734</th>\n",
       "      <td>2014-10-14</td>\n",
       "      <td>ff946a14-777b-4597-91b2-3277921214cd</td>\n",
       "      <td>2014-11-03</td>\n",
       "      <td>2014-11-06</td>\n",
       "      <td>10</td>\n",
       "      <td>3.0</td>\n",
       "      <td>1</td>\n",
       "      <td>3</td>\n",
       "      <td>IL</td>\n",
       "      <td>NaN</td>\n",
       "      <td>NaN</td>\n",
       "      <td>Entire home/apt</td>\n",
       "      <td>NaN</td>\n",
       "    </tr>\n",
       "    <tr>\n",
       "      <th>35735</th>\n",
       "      <td>2014-10-14</td>\n",
       "      <td>ffc681d4-3668-4448-af38-6f73bc9fb89d</td>\n",
       "      <td>NaN</td>\n",
       "      <td>NaN</td>\n",
       "      <td>5</td>\n",
       "      <td>NaN</td>\n",
       "      <td>1</td>\n",
       "      <td>1</td>\n",
       "      <td>IE</td>\n",
       "      <td>0.0</td>\n",
       "      <td>4.850000e+02</td>\n",
       "      <td>NaN</td>\n",
       "      <td>NaN</td>\n",
       "    </tr>\n",
       "    <tr>\n",
       "      <th>35736</th>\n",
       "      <td>2014-10-14</td>\n",
       "      <td>ffe0f0c3-f8e3-418e-82e5-3a29fdd183bd</td>\n",
       "      <td>NaN</td>\n",
       "      <td>NaN</td>\n",
       "      <td>3</td>\n",
       "      <td>NaN</td>\n",
       "      <td>1</td>\n",
       "      <td>1</td>\n",
       "      <td>US</td>\n",
       "      <td>480.0</td>\n",
       "      <td>1.073742e+09</td>\n",
       "      <td>,Entire home/apt</td>\n",
       "      <td>NaN</td>\n",
       "    </tr>\n",
       "  </tbody>\n",
       "</table>\n",
       "<p>35737 rows × 13 columns</p>\n",
       "</div>"
      ],
      "text/plain": [
       "               ds                               id_user  ds_checkin  \\\n",
       "0      2014-10-01  0000af0a-6f26-4233-9832-27efbfb36148  2014-10-09   \n",
       "1      2014-10-01  0000af0a-6f26-4233-9832-27efbfb36148  2014-10-09   \n",
       "2      2014-10-01  000cd9d3-e05b-4016-9e09-34a6f8ba2fc5         NaN   \n",
       "3      2014-10-01  000cd9d3-e05b-4016-9e09-34a6f8ba2fc5  2014-11-08   \n",
       "4      2014-10-01  001c04f0-5a94-4ee0-bf5d-3591265256de         NaN   \n",
       "...           ...                                   ...         ...   \n",
       "35732  2014-10-14  ff3c92ed-ebea-4691-a808-cc6fb73f2f55         NaN   \n",
       "35733  2014-10-14  ff61875b-1d27-4ee4-bd4e-36671d3bfed4         NaN   \n",
       "35734  2014-10-14  ff946a14-777b-4597-91b2-3277921214cd  2014-11-03   \n",
       "35735  2014-10-14  ffc681d4-3668-4448-af38-6f73bc9fb89d         NaN   \n",
       "35736  2014-10-14  ffe0f0c3-f8e3-418e-82e5-3a29fdd183bd         NaN   \n",
       "\n",
       "      ds_checkout  n_searches  n_nights  n_guests_min  n_guests_max  \\\n",
       "0      2014-10-12          16       3.0             2             2   \n",
       "1      2014-10-19           3      10.0             1             2   \n",
       "2             NaN           1       NaN             1             1   \n",
       "3      2014-11-10          11       2.0             1             2   \n",
       "4             NaN           1       NaN             1             1   \n",
       "...           ...         ...       ...           ...           ...   \n",
       "35732         NaN           3       NaN             2             2   \n",
       "35733         NaN           2       NaN             1             1   \n",
       "35734  2014-11-06          10       3.0             1             3   \n",
       "35735         NaN           5       NaN             1             1   \n",
       "35736         NaN           3       NaN             1             1   \n",
       "\n",
       "      origin_country  filter_price_min  filter_price_max  \\\n",
       "0                 IE               0.0      6.700000e+01   \n",
       "1                 IE               0.0      6.700000e+01   \n",
       "2                 GB               NaN               NaN   \n",
       "3                 GB               NaN               NaN   \n",
       "4                 IE               NaN               NaN   \n",
       "...              ...               ...               ...   \n",
       "35732             US               0.0      1.000000e+02   \n",
       "35733             US               NaN               NaN   \n",
       "35734             IL               NaN               NaN   \n",
       "35735             IE               0.0      4.850000e+02   \n",
       "35736             US             480.0      1.073742e+09   \n",
       "\n",
       "                                       filter_room_types filter_neighborhoods  \n",
       "0      ,Entire home/apt,Entire home/apt,Private room,...                  NaN  \n",
       "1                                                    NaN                  NaN  \n",
       "2                                                    NaN                  NaN  \n",
       "3                                       ,Entire home/apt                  NaN  \n",
       "4                                                    NaN                  NaN  \n",
       "...                                                  ...                  ...  \n",
       "35732                                    Entire home/apt                  NaN  \n",
       "35733                                                NaN                  NaN  \n",
       "35734                                    Entire home/apt                  NaN  \n",
       "35735                                                NaN                  NaN  \n",
       "35736                                   ,Entire home/apt                  NaN  \n",
       "\n",
       "[35737 rows x 13 columns]"
      ]
     },
     "execution_count": 6,
     "metadata": {},
     "output_type": "execute_result"
    }
   ],
   "source": [
    "searches"
   ]
  },
  {
   "cell_type": "code",
   "execution_count": 7,
   "id": "dbbb27e7",
   "metadata": {},
   "outputs": [
    {
     "name": "stdout",
     "output_type": "stream",
     "text": [
      "searches\n",
      "ds                      0.000000\n",
      "id_user                 0.000000\n",
      "ds_checkin              0.331561\n",
      "ds_checkout             0.331561\n",
      "n_searches              0.000000\n",
      "n_nights                0.331561\n",
      "n_guests_min            0.000000\n",
      "n_guests_max            0.000000\n",
      "origin_country          0.000000\n",
      "filter_price_min        0.627221\n",
      "filter_price_max        0.627221\n",
      "filter_room_types       0.546940\n",
      "filter_neighborhoods    0.962336\n",
      "dtype: float64\n"
     ]
    }
   ],
   "source": [
    "print(\"searches\")\n",
    "print(searches.isna().sum()/len(searches))"
   ]
  },
  {
   "cell_type": "code",
   "execution_count": null,
   "id": "5071655b",
   "metadata": {},
   "outputs": [],
   "source": []
  },
  {
   "cell_type": "code",
   "execution_count": 8,
   "id": "09b45f96",
   "metadata": {},
   "outputs": [],
   "source": [
    "searches = searches.drop(columns=[\"filter_neighborhoods\"])"
   ]
  },
  {
   "cell_type": "code",
   "execution_count": 9,
   "id": "84980246",
   "metadata": {},
   "outputs": [
    {
     "data": {
      "text/html": [
       "<div>\n",
       "<style scoped>\n",
       "    .dataframe tbody tr th:only-of-type {\n",
       "        vertical-align: middle;\n",
       "    }\n",
       "\n",
       "    .dataframe tbody tr th {\n",
       "        vertical-align: top;\n",
       "    }\n",
       "\n",
       "    .dataframe thead th {\n",
       "        text-align: right;\n",
       "    }\n",
       "</style>\n",
       "<table border=\"1\" class=\"dataframe\">\n",
       "  <thead>\n",
       "    <tr style=\"text-align: right;\">\n",
       "      <th></th>\n",
       "      <th>n_searches</th>\n",
       "      <th>n_nights</th>\n",
       "      <th>n_guests_min</th>\n",
       "      <th>n_guests_max</th>\n",
       "      <th>filter_price_min</th>\n",
       "      <th>filter_price_max</th>\n",
       "    </tr>\n",
       "  </thead>\n",
       "  <tbody>\n",
       "    <tr>\n",
       "      <th>count</th>\n",
       "      <td>35737.000000</td>\n",
       "      <td>23888.000000</td>\n",
       "      <td>35737.000000</td>\n",
       "      <td>35737.000000</td>\n",
       "      <td>13322.000000</td>\n",
       "      <td>1.332200e+04</td>\n",
       "    </tr>\n",
       "    <tr>\n",
       "      <th>mean</th>\n",
       "      <td>9.206565</td>\n",
       "      <td>7.672765</td>\n",
       "      <td>1.742955</td>\n",
       "      <td>2.105857</td>\n",
       "      <td>8.470200</td>\n",
       "      <td>9.019063e+07</td>\n",
       "    </tr>\n",
       "    <tr>\n",
       "      <th>std</th>\n",
       "      <td>17.348746</td>\n",
       "      <td>21.557614</td>\n",
       "      <td>1.460440</td>\n",
       "      <td>1.817358</td>\n",
       "      <td>53.987679</td>\n",
       "      <td>2.978482e+08</td>\n",
       "    </tr>\n",
       "    <tr>\n",
       "      <th>min</th>\n",
       "      <td>1.000000</td>\n",
       "      <td>0.000000</td>\n",
       "      <td>1.000000</td>\n",
       "      <td>1.000000</td>\n",
       "      <td>0.000000</td>\n",
       "      <td>9.000000e+00</td>\n",
       "    </tr>\n",
       "    <tr>\n",
       "      <th>25%</th>\n",
       "      <td>1.000000</td>\n",
       "      <td>2.000000</td>\n",
       "      <td>1.000000</td>\n",
       "      <td>1.000000</td>\n",
       "      <td>0.000000</td>\n",
       "      <td>8.600000e+01</td>\n",
       "    </tr>\n",
       "    <tr>\n",
       "      <th>50%</th>\n",
       "      <td>4.000000</td>\n",
       "      <td>3.000000</td>\n",
       "      <td>1.000000</td>\n",
       "      <td>2.000000</td>\n",
       "      <td>0.000000</td>\n",
       "      <td>1.390000e+02</td>\n",
       "    </tr>\n",
       "    <tr>\n",
       "      <th>75%</th>\n",
       "      <td>10.000000</td>\n",
       "      <td>5.000000</td>\n",
       "      <td>2.000000</td>\n",
       "      <td>2.000000</td>\n",
       "      <td>0.000000</td>\n",
       "      <td>3.010000e+02</td>\n",
       "    </tr>\n",
       "    <tr>\n",
       "      <th>max</th>\n",
       "      <td>448.000000</td>\n",
       "      <td>399.000000</td>\n",
       "      <td>16.000000</td>\n",
       "      <td>16.000000</td>\n",
       "      <td>1250.000000</td>\n",
       "      <td>1.073742e+09</td>\n",
       "    </tr>\n",
       "  </tbody>\n",
       "</table>\n",
       "</div>"
      ],
      "text/plain": [
       "         n_searches      n_nights  n_guests_min  n_guests_max  \\\n",
       "count  35737.000000  23888.000000  35737.000000  35737.000000   \n",
       "mean       9.206565      7.672765      1.742955      2.105857   \n",
       "std       17.348746     21.557614      1.460440      1.817358   \n",
       "min        1.000000      0.000000      1.000000      1.000000   \n",
       "25%        1.000000      2.000000      1.000000      1.000000   \n",
       "50%        4.000000      3.000000      1.000000      2.000000   \n",
       "75%       10.000000      5.000000      2.000000      2.000000   \n",
       "max      448.000000    399.000000     16.000000     16.000000   \n",
       "\n",
       "       filter_price_min  filter_price_max  \n",
       "count      13322.000000      1.332200e+04  \n",
       "mean           8.470200      9.019063e+07  \n",
       "std           53.987679      2.978482e+08  \n",
       "min            0.000000      9.000000e+00  \n",
       "25%            0.000000      8.600000e+01  \n",
       "50%            0.000000      1.390000e+02  \n",
       "75%            0.000000      3.010000e+02  \n",
       "max         1250.000000      1.073742e+09  "
      ]
     },
     "execution_count": 9,
     "metadata": {},
     "output_type": "execute_result"
    }
   ],
   "source": [
    "searches.describe()"
   ]
  },
  {
   "cell_type": "code",
   "execution_count": 10,
   "id": "4be82cae",
   "metadata": {},
   "outputs": [],
   "source": [
    "searches[\"ds\"] = pd.to_datetime(searches[\"ds\"])\n",
    "searches[\"ds_checkin\"] = pd.to_datetime(searches[\"ds_checkin\"])\n",
    "searches[\"ds_checkout\"] = pd.to_datetime(searches[\"ds_checkout\"])"
   ]
  },
  {
   "cell_type": "code",
   "execution_count": 11,
   "id": "4e3dd33a",
   "metadata": {},
   "outputs": [],
   "source": [
    "searches[\"length_preparation\"] = searches[\"ds_checkin\"] - searches[\"ds\"]"
   ]
  },
  {
   "cell_type": "code",
   "execution_count": 12,
   "id": "f5a285d0",
   "metadata": {},
   "outputs": [
    {
     "data": {
      "text/html": [
       "<div>\n",
       "<style scoped>\n",
       "    .dataframe tbody tr th:only-of-type {\n",
       "        vertical-align: middle;\n",
       "    }\n",
       "\n",
       "    .dataframe tbody tr th {\n",
       "        vertical-align: top;\n",
       "    }\n",
       "\n",
       "    .dataframe thead th {\n",
       "        text-align: right;\n",
       "    }\n",
       "</style>\n",
       "<table border=\"1\" class=\"dataframe\">\n",
       "  <thead>\n",
       "    <tr style=\"text-align: right;\">\n",
       "      <th></th>\n",
       "      <th>n_searches</th>\n",
       "      <th>n_nights</th>\n",
       "      <th>n_guests_min</th>\n",
       "      <th>n_guests_max</th>\n",
       "      <th>filter_price_min</th>\n",
       "      <th>filter_price_max</th>\n",
       "      <th>length_preparation</th>\n",
       "    </tr>\n",
       "  </thead>\n",
       "  <tbody>\n",
       "    <tr>\n",
       "      <th>count</th>\n",
       "      <td>35737.000000</td>\n",
       "      <td>23888.000000</td>\n",
       "      <td>35737.000000</td>\n",
       "      <td>35737.000000</td>\n",
       "      <td>13322.000000</td>\n",
       "      <td>1.332200e+04</td>\n",
       "      <td>23888</td>\n",
       "    </tr>\n",
       "    <tr>\n",
       "      <th>mean</th>\n",
       "      <td>9.206565</td>\n",
       "      <td>7.672765</td>\n",
       "      <td>1.742955</td>\n",
       "      <td>2.105857</td>\n",
       "      <td>8.470200</td>\n",
       "      <td>9.019063e+07</td>\n",
       "      <td>51 days 08:11:53.730743469</td>\n",
       "    </tr>\n",
       "    <tr>\n",
       "      <th>std</th>\n",
       "      <td>17.348746</td>\n",
       "      <td>21.557614</td>\n",
       "      <td>1.460440</td>\n",
       "      <td>1.817358</td>\n",
       "      <td>53.987679</td>\n",
       "      <td>2.978482e+08</td>\n",
       "      <td>65 days 18:56:19.491940518</td>\n",
       "    </tr>\n",
       "    <tr>\n",
       "      <th>min</th>\n",
       "      <td>1.000000</td>\n",
       "      <td>0.000000</td>\n",
       "      <td>1.000000</td>\n",
       "      <td>1.000000</td>\n",
       "      <td>0.000000</td>\n",
       "      <td>9.000000e+00</td>\n",
       "      <td>-1 days +00:00:00</td>\n",
       "    </tr>\n",
       "    <tr>\n",
       "      <th>25%</th>\n",
       "      <td>1.000000</td>\n",
       "      <td>2.000000</td>\n",
       "      <td>1.000000</td>\n",
       "      <td>1.000000</td>\n",
       "      <td>0.000000</td>\n",
       "      <td>8.600000e+01</td>\n",
       "      <td>10 days 00:00:00</td>\n",
       "    </tr>\n",
       "    <tr>\n",
       "      <th>50%</th>\n",
       "      <td>4.000000</td>\n",
       "      <td>3.000000</td>\n",
       "      <td>1.000000</td>\n",
       "      <td>2.000000</td>\n",
       "      <td>0.000000</td>\n",
       "      <td>1.390000e+02</td>\n",
       "      <td>26 days 00:00:00</td>\n",
       "    </tr>\n",
       "    <tr>\n",
       "      <th>75%</th>\n",
       "      <td>10.000000</td>\n",
       "      <td>5.000000</td>\n",
       "      <td>2.000000</td>\n",
       "      <td>2.000000</td>\n",
       "      <td>0.000000</td>\n",
       "      <td>3.010000e+02</td>\n",
       "      <td>67 days 00:00:00</td>\n",
       "    </tr>\n",
       "    <tr>\n",
       "      <th>max</th>\n",
       "      <td>448.000000</td>\n",
       "      <td>399.000000</td>\n",
       "      <td>16.000000</td>\n",
       "      <td>16.000000</td>\n",
       "      <td>1250.000000</td>\n",
       "      <td>1.073742e+09</td>\n",
       "      <td>604 days 00:00:00</td>\n",
       "    </tr>\n",
       "  </tbody>\n",
       "</table>\n",
       "</div>"
      ],
      "text/plain": [
       "         n_searches      n_nights  n_guests_min  n_guests_max  \\\n",
       "count  35737.000000  23888.000000  35737.000000  35737.000000   \n",
       "mean       9.206565      7.672765      1.742955      2.105857   \n",
       "std       17.348746     21.557614      1.460440      1.817358   \n",
       "min        1.000000      0.000000      1.000000      1.000000   \n",
       "25%        1.000000      2.000000      1.000000      1.000000   \n",
       "50%        4.000000      3.000000      1.000000      2.000000   \n",
       "75%       10.000000      5.000000      2.000000      2.000000   \n",
       "max      448.000000    399.000000     16.000000     16.000000   \n",
       "\n",
       "       filter_price_min  filter_price_max          length_preparation  \n",
       "count      13322.000000      1.332200e+04                       23888  \n",
       "mean           8.470200      9.019063e+07  51 days 08:11:53.730743469  \n",
       "std           53.987679      2.978482e+08  65 days 18:56:19.491940518  \n",
       "min            0.000000      9.000000e+00           -1 days +00:00:00  \n",
       "25%            0.000000      8.600000e+01            10 days 00:00:00  \n",
       "50%            0.000000      1.390000e+02            26 days 00:00:00  \n",
       "75%            0.000000      3.010000e+02            67 days 00:00:00  \n",
       "max         1250.000000      1.073742e+09           604 days 00:00:00  "
      ]
     },
     "execution_count": 12,
     "metadata": {},
     "output_type": "execute_result"
    }
   ],
   "source": [
    "searches.describe()"
   ]
  },
  {
   "cell_type": "code",
   "execution_count": 13,
   "id": "e158aed4",
   "metadata": {},
   "outputs": [
    {
     "data": {
      "text/plain": [
       "n_searches           7.509258\n",
       "n_nights             9.942364\n",
       "n_guests_min         3.583798\n",
       "n_guests_max         3.148548\n",
       "filter_price_min    11.087745\n",
       "filter_price_max     2.999833\n",
       "dtype: float64"
      ]
     },
     "execution_count": 13,
     "metadata": {},
     "output_type": "execute_result"
    }
   ],
   "source": [
    "searches.skew(axis=0,numeric_only = True,skipna = True)"
   ]
  },
  {
   "cell_type": "code",
   "execution_count": 14,
   "id": "bab06951",
   "metadata": {},
   "outputs": [
    {
     "data": {
      "text/html": [
       "<div>\n",
       "<style scoped>\n",
       "    .dataframe tbody tr th:only-of-type {\n",
       "        vertical-align: middle;\n",
       "    }\n",
       "\n",
       "    .dataframe tbody tr th {\n",
       "        vertical-align: top;\n",
       "    }\n",
       "\n",
       "    .dataframe thead th {\n",
       "        text-align: right;\n",
       "    }\n",
       "</style>\n",
       "<table border=\"1\" class=\"dataframe\">\n",
       "  <thead>\n",
       "    <tr style=\"text-align: right;\">\n",
       "      <th></th>\n",
       "      <th>ds</th>\n",
       "      <th>id_user</th>\n",
       "      <th>ds_checkin</th>\n",
       "      <th>ds_checkout</th>\n",
       "      <th>n_searches</th>\n",
       "      <th>n_nights</th>\n",
       "      <th>n_guests_min</th>\n",
       "      <th>n_guests_max</th>\n",
       "      <th>origin_country</th>\n",
       "      <th>filter_price_min</th>\n",
       "      <th>filter_price_max</th>\n",
       "      <th>filter_room_types</th>\n",
       "      <th>length_preparation</th>\n",
       "    </tr>\n",
       "  </thead>\n",
       "  <tbody>\n",
       "    <tr>\n",
       "      <th>0</th>\n",
       "      <td>2014-10-01</td>\n",
       "      <td>0000af0a-6f26-4233-9832-27efbfb36148</td>\n",
       "      <td>2014-10-09</td>\n",
       "      <td>2014-10-12</td>\n",
       "      <td>16</td>\n",
       "      <td>3.0</td>\n",
       "      <td>2</td>\n",
       "      <td>2</td>\n",
       "      <td>IE</td>\n",
       "      <td>0.0</td>\n",
       "      <td>67.0</td>\n",
       "      <td>,Entire home/apt,Entire home/apt,Private room,...</td>\n",
       "      <td>8 days</td>\n",
       "    </tr>\n",
       "    <tr>\n",
       "      <th>1</th>\n",
       "      <td>2014-10-01</td>\n",
       "      <td>0000af0a-6f26-4233-9832-27efbfb36148</td>\n",
       "      <td>2014-10-09</td>\n",
       "      <td>2014-10-19</td>\n",
       "      <td>3</td>\n",
       "      <td>10.0</td>\n",
       "      <td>1</td>\n",
       "      <td>2</td>\n",
       "      <td>IE</td>\n",
       "      <td>0.0</td>\n",
       "      <td>67.0</td>\n",
       "      <td>NaN</td>\n",
       "      <td>8 days</td>\n",
       "    </tr>\n",
       "  </tbody>\n",
       "</table>\n",
       "</div>"
      ],
      "text/plain": [
       "          ds                               id_user ds_checkin ds_checkout  \\\n",
       "0 2014-10-01  0000af0a-6f26-4233-9832-27efbfb36148 2014-10-09  2014-10-12   \n",
       "1 2014-10-01  0000af0a-6f26-4233-9832-27efbfb36148 2014-10-09  2014-10-19   \n",
       "\n",
       "   n_searches  n_nights  n_guests_min  n_guests_max origin_country  \\\n",
       "0          16       3.0             2             2             IE   \n",
       "1           3      10.0             1             2             IE   \n",
       "\n",
       "   filter_price_min  filter_price_max  \\\n",
       "0               0.0              67.0   \n",
       "1               0.0              67.0   \n",
       "\n",
       "                                   filter_room_types length_preparation  \n",
       "0  ,Entire home/apt,Entire home/apt,Private room,...             8 days  \n",
       "1                                                NaN             8 days  "
      ]
     },
     "execution_count": 14,
     "metadata": {},
     "output_type": "execute_result"
    }
   ],
   "source": [
    "searches.head(2)"
   ]
  },
  {
   "cell_type": "markdown",
   "id": "01d45894",
   "metadata": {},
   "source": [
    "### searches DataSet"
   ]
  },
  {
   "cell_type": "markdown",
   "id": "55abd2dd",
   "metadata": {},
   "source": [
    "### Distributions"
   ]
  },
  {
   "cell_type": "code",
   "execution_count": 15,
   "id": "22578990",
   "metadata": {},
   "outputs": [],
   "source": [
    "roomtypes_searches = searches.groupby('filter_room_types')[['n_searches']].count().reset_index()"
   ]
  },
  {
   "cell_type": "code",
   "execution_count": 16,
   "id": "9fca6ac5",
   "metadata": {},
   "outputs": [],
   "source": [
    "roomtypes_searches = roomtypes_searches.sort_values(by = 'n_searches' , ascending = False).head()"
   ]
  },
  {
   "cell_type": "code",
   "execution_count": 17,
   "id": "58c6b800",
   "metadata": {},
   "outputs": [
    {
     "data": {
      "text/html": [
       "<div>\n",
       "<style scoped>\n",
       "    .dataframe tbody tr th:only-of-type {\n",
       "        vertical-align: middle;\n",
       "    }\n",
       "\n",
       "    .dataframe tbody tr th {\n",
       "        vertical-align: top;\n",
       "    }\n",
       "\n",
       "    .dataframe thead th {\n",
       "        text-align: right;\n",
       "    }\n",
       "</style>\n",
       "<table border=\"1\" class=\"dataframe\">\n",
       "  <thead>\n",
       "    <tr style=\"text-align: right;\">\n",
       "      <th></th>\n",
       "      <th>filter_room_types</th>\n",
       "      <th>n_searches</th>\n",
       "    </tr>\n",
       "  </thead>\n",
       "  <tbody>\n",
       "    <tr>\n",
       "      <th>0</th>\n",
       "      <td>,Entire home/apt</td>\n",
       "      <td>6331</td>\n",
       "    </tr>\n",
       "    <tr>\n",
       "      <th>103</th>\n",
       "      <td>Entire home/apt</td>\n",
       "      <td>3667</td>\n",
       "    </tr>\n",
       "    <tr>\n",
       "      <th>80</th>\n",
       "      <td>,Private room</td>\n",
       "      <td>1693</td>\n",
       "    </tr>\n",
       "    <tr>\n",
       "      <th>141</th>\n",
       "      <td>Private room</td>\n",
       "      <td>1147</td>\n",
       "    </tr>\n",
       "    <tr>\n",
       "      <th>1</th>\n",
       "      <td>,Entire home/apt,Entire home/apt,Private room</td>\n",
       "      <td>415</td>\n",
       "    </tr>\n",
       "  </tbody>\n",
       "</table>\n",
       "</div>"
      ],
      "text/plain": [
       "                                 filter_room_types  n_searches\n",
       "0                                 ,Entire home/apt        6331\n",
       "103                                Entire home/apt        3667\n",
       "80                                   ,Private room        1693\n",
       "141                                   Private room        1147\n",
       "1    ,Entire home/apt,Entire home/apt,Private room         415"
      ]
     },
     "execution_count": 17,
     "metadata": {},
     "output_type": "execute_result"
    }
   ],
   "source": [
    "roomtypes_searches"
   ]
  },
  {
   "cell_type": "code",
   "execution_count": 18,
   "id": "3eb592c7",
   "metadata": {},
   "outputs": [
    {
     "data": {
      "image/png": "[encoded data removed]",
      "text/plain": [
       "<Figure size 640x480 with 1 Axes>"
      ]
     },
     "metadata": {},
     "output_type": "display_data"
    }
   ],
   "source": [
    "sns.barplot(x = 'filter_room_types' , y = 'n_searches' , data = roomtypes_searches)\n",
    "plt.xticks(rotation = 90)\n",
    "plt.show()"
   ]
  },
  {
   "cell_type": "markdown",
   "id": "e2945850",
   "metadata": {},
   "source": [
    "Most of the room types requested were entire home/apt and private rooms sometimes shared rooms.If given more time,I would have cleaned this column since most filter values are repeated within the same cell. On the Airbnb website, there are only 4 values in the type of place:\n",
    "\n",
    "• Entire Place\n",
    "\n",
    "• Private Room\n",
    "\n",
    "• Hotel Room\n",
    "\n",
    "• Shared Room\n",
    "\n",
    "So searching how often these 4 strings occur would be how I go about it."
   ]
  },
  {
   "cell_type": "code",
   "execution_count": 19,
   "id": "c71a7b81",
   "metadata": {},
   "outputs": [],
   "source": [
    "import pycountry\n",
    "def get_country_name(country_code):\n",
    "    try:\n",
    "        country = pycountry.countries.get(alpha_2 = country_code)\n",
    "        return country.name\n",
    "    except AttributeError:\n",
    "        return country_code"
   ]
  },
  {
   "cell_type": "code",
   "execution_count": 20,
   "id": "817bc1ac",
   "metadata": {},
   "outputs": [],
   "source": [
    "searches['origin_country'] = searches['origin_country'].apply(get_country_name)"
   ]
  },
  {
   "cell_type": "code",
   "execution_count": 21,
   "id": "7f18c6b7",
   "metadata": {
    "scrolled": false
   },
   "outputs": [
    {
     "data": {
      "image/png": "[encoded data removed]",
      "text/plain": [
       "<Figure size 500x500 with 1 Axes>"
      ]
     },
     "metadata": {},
     "output_type": "display_data"
    },
    {
     "data": {
      "image/png": "[encoded data removed]",
      "text/plain": [
       "<Figure size 500x500 with 1 Axes>"
      ]
     },
     "metadata": {},
     "output_type": "display_data"
    }
   ],
   "source": [
    "sns.displot(searches,x=\"n_guests_min\",color = \"red\")\n",
    "sns.displot(searches,x=\"n_guests_max\",color = \"green\")\n",
    "plt.show()"
   ]
  },
  {
   "cell_type": "markdown",
   "id": "15931cc3",
   "metadata": {},
   "source": [
    "Both have similar distributions with 1 being the most popular option and 2 being the next popular option."
   ]
  },
  {
   "cell_type": "code",
   "execution_count": 22,
   "id": "0cd1f5af",
   "metadata": {
    "scrolled": false
   },
   "outputs": [
    {
     "data": {
      "text/plain": [
       "[[None,\n",
       "  None,\n",
       "  None,\n",
       "  None,\n",
       "  None,\n",
       "  None,\n",
       "  None,\n",
       "  None,\n",
       "  None,\n",
       "  None,\n",
       "  None,\n",
       "  None,\n",
       "  None,\n",
       "  None]]"
      ]
     },
     "execution_count": 22,
     "metadata": {},
     "output_type": "execute_result"
    },
    {
     "data": {
      "image/png": "[encoded data removed]",
      "text/plain": [
       "<Figure size 500x500 with 1 Axes>"
      ]
     },
     "metadata": {},
     "output_type": "display_data"
    }
   ],
   "source": [
    "ax=sns.displot(searches, x = \"ds\", color = \"blue\")\n",
    "[plt.setp(ax.get_xticklabels(),rotation = 90) for ax in ax.axes.flat]"
   ]
  },
  {
   "cell_type": "markdown",
   "id": "6193cfb8",
   "metadata": {},
   "source": [
    "Noticed all date searches were between October 1st to October 14th. No major variation in when search was conducted between these dates."
   ]
  },
  {
   "cell_type": "code",
   "execution_count": 23,
   "id": "3f7a165e",
   "metadata": {},
   "outputs": [
    {
     "name": "stdout",
     "output_type": "stream",
     "text": [
      "5.311022189887232 %\n"
     ]
    }
   ],
   "source": [
    "print(len(searches[searches['filter_price_max'] > 600])/len(searches[\"filter_price_max\"])*100,\"%\")"
   ]
  },
  {
   "cell_type": "code",
   "execution_count": 24,
   "id": "95170618",
   "metadata": {},
   "outputs": [],
   "source": [
    "searches_max_price_drop = searches[searches[\"filter_price_max\"] <= 600]"
   ]
  },
  {
   "cell_type": "code",
   "execution_count": 25,
   "id": "1f3b15ba",
   "metadata": {
    "scrolled": true
   },
   "outputs": [
    {
     "data": {
      "image/png": "[encoded data removed]",
      "text/plain": [
       "<Figure size 500x500 with 1 Axes>"
      ]
     },
     "metadata": {},
     "output_type": "display_data"
    }
   ],
   "source": [
    "sns.displot(x=searches_max_price_drop[\"filter_price_max\"],color=\"green\")\n",
    "plt.show()"
   ]
  },
  {
   "cell_type": "markdown",
   "id": "2dc1722a",
   "metadata": {},
   "source": [
    "Filter_price_max was chosen instead of filter_price_min due to the min usually being set at $0\n",
    "\n",
    "To further help better visualize the trend we set the filter price max as less or equal to 600. 600 was chosen as the limit since only 14.25% of the dataset has values greater than 600."
   ]
  },
  {
   "cell_type": "code",
   "execution_count": 26,
   "id": "69efc85d",
   "metadata": {},
   "outputs": [
    {
     "name": "stdout",
     "output_type": "stream",
     "text": [
      "9.396423874415872 %\n"
     ]
    }
   ],
   "source": [
    "distribution = searches[\"length_preparation\"] / np.timedelta64(1,\"D\")\n",
    "print(len(distribution[distribution > 100])/len(distribution)*100,\"%\")"
   ]
  },
  {
   "cell_type": "code",
   "execution_count": 27,
   "id": "df171b7f",
   "metadata": {
    "scrolled": true
   },
   "outputs": [
    {
     "data": {
      "image/png": "[encoded data removed]",
      "text/plain": [
       "<Figure size 500x500 with 1 Axes>"
      ]
     },
     "metadata": {},
     "output_type": "display_data"
    }
   ],
   "source": [
    "distribution = distribution[distribution < 100]\n",
    "sns.displot(x=distribution,color=\"blue\")\n",
    "plt.show()"
   ]
  },
  {
   "cell_type": "markdown",
   "id": "6feda687",
   "metadata": {},
   "source": [
    "100 days was chosen as the limit since only 14.06% of the dataset exists beyond that."
   ]
  },
  {
   "cell_type": "code",
   "execution_count": 28,
   "id": "631cf130",
   "metadata": {},
   "outputs": [
    {
     "name": "stdout",
     "output_type": "stream",
     "text": [
      "4.737387021854101 %\n"
     ]
    }
   ],
   "source": [
    "print(len(searches[searches['n_nights'] > 20])/len(searches[\"n_nights\"])*100,\"%\")"
   ]
  },
  {
   "cell_type": "code",
   "execution_count": 29,
   "id": "f16073ae",
   "metadata": {},
   "outputs": [],
   "source": [
    "searches_within_20 = searches[searches[\"n_nights\"] < 20]"
   ]
  },
  {
   "cell_type": "code",
   "execution_count": 30,
   "id": "b0b58297",
   "metadata": {
    "scrolled": true
   },
   "outputs": [
    {
     "data": {
      "image/png": "[encoded data removed]",
      "text/plain": [
       "<Figure size 500x500 with 1 Axes>"
      ]
     },
     "metadata": {},
     "output_type": "display_data"
    }
   ],
   "source": [
    "sns.displot(searches_within_20 , x=\"n_nights\",color=\"yellow\")\n",
    "plt.show()"
   ]
  },
  {
   "cell_type": "markdown",
   "id": "e45c13b3",
   "metadata": {},
   "source": [
    "Removing n_nights beyond 20 days since only 7.3% of the dataset exists beyond 20 days"
   ]
  },
  {
   "cell_type": "code",
   "execution_count": 31,
   "id": "e5264ad6",
   "metadata": {
    "scrolled": false
   },
   "outputs": [
    {
     "data": {
      "image/png": "[encoded data removed]",
      "text/plain": [
       "<Figure size 500x500 with 1 Axes>"
      ]
     },
     "metadata": {},
     "output_type": "display_data"
    }
   ],
   "source": [
    "checkin_monts = pd.DatetimeIndex(searches[\"ds_checkin\"]).month\n",
    "sns.displot(checkin_monts,color=\"brown\")\n",
    "plt.show()"
   ]
  },
  {
   "cell_type": "markdown",
   "id": "ca751720",
   "metadata": {},
   "source": [
    "Used only the check-in month, cause checkout is usually within 5/6 days. The mean of n_nights after removing the upper outlier limit is 5.6, so assumed 5 or 6 days after the check-in date people usually checkout."
   ]
  },
  {
   "cell_type": "code",
   "execution_count": 32,
   "id": "00a021a1",
   "metadata": {},
   "outputs": [
    {
     "data": {
      "text/plain": [
       "array([',Entire home/apt,Entire home/apt,Private room,Private room', nan,\n",
       "       ',Entire home/apt',\n",
       "       'Entire home/apt,Entire home/apt,Private room,Private room',\n",
       "       'Entire home/apt', ',Shared room,Private room',\n",
       "       'Entire home/apt,Private room,Shared room,Private room,Shared room',\n",
       "       'Private room', 'Entire home/apt,Private room', ',Private room',\n",
       "       ',Entire home/apt,Private room',\n",
       "       ',Entire home/apt,Private room,Private room',\n",
       "       'Entire home/apt,Private room,Shared room',\n",
       "       ',Entire home/apt,Entire home/apt,Private room',\n",
       "       ',Entire home/apt,Entire home/apt,Shared room,Shared room'],\n",
       "      dtype=object)"
      ]
     },
     "execution_count": 32,
     "metadata": {},
     "output_type": "execute_result"
    }
   ],
   "source": [
    "searches[\"filter_room_types\"].unique()[0:15]"
   ]
  },
  {
   "cell_type": "code",
   "execution_count": 33,
   "id": "ecee20f2",
   "metadata": {},
   "outputs": [
    {
     "data": {
      "text/html": [
       "<div>\n",
       "<style scoped>\n",
       "    .dataframe tbody tr th:only-of-type {\n",
       "        vertical-align: middle;\n",
       "    }\n",
       "\n",
       "    .dataframe tbody tr th {\n",
       "        vertical-align: top;\n",
       "    }\n",
       "\n",
       "    .dataframe thead th {\n",
       "        text-align: right;\n",
       "    }\n",
       "</style>\n",
       "<table border=\"1\" class=\"dataframe\">\n",
       "  <thead>\n",
       "    <tr style=\"text-align: right;\">\n",
       "      <th></th>\n",
       "      <th>count</th>\n",
       "    </tr>\n",
       "    <tr>\n",
       "      <th>origin_country</th>\n",
       "      <th></th>\n",
       "    </tr>\n",
       "  </thead>\n",
       "  <tbody>\n",
       "    <tr>\n",
       "      <th>Ireland</th>\n",
       "      <td>6608</td>\n",
       "    </tr>\n",
       "    <tr>\n",
       "      <th>United States</th>\n",
       "      <td>5811</td>\n",
       "    </tr>\n",
       "    <tr>\n",
       "      <th>United Kingdom</th>\n",
       "      <td>4832</td>\n",
       "    </tr>\n",
       "    <tr>\n",
       "      <th>France</th>\n",
       "      <td>3444</td>\n",
       "    </tr>\n",
       "    <tr>\n",
       "      <th>Italy</th>\n",
       "      <td>2333</td>\n",
       "    </tr>\n",
       "    <tr>\n",
       "      <th>Germany</th>\n",
       "      <td>2170</td>\n",
       "    </tr>\n",
       "    <tr>\n",
       "      <th>Spain</th>\n",
       "      <td>1759</td>\n",
       "    </tr>\n",
       "    <tr>\n",
       "      <th>Canada</th>\n",
       "      <td>1085</td>\n",
       "    </tr>\n",
       "    <tr>\n",
       "      <th>Australia</th>\n",
       "      <td>962</td>\n",
       "    </tr>\n",
       "    <tr>\n",
       "      <th>Netherlands</th>\n",
       "      <td>843</td>\n",
       "    </tr>\n",
       "    <tr>\n",
       "      <th>Brazil</th>\n",
       "      <td>636</td>\n",
       "    </tr>\n",
       "    <tr>\n",
       "      <th>Switzerland</th>\n",
       "      <td>535</td>\n",
       "    </tr>\n",
       "    <tr>\n",
       "      <th>Belgium</th>\n",
       "      <td>386</td>\n",
       "    </tr>\n",
       "    <tr>\n",
       "      <th>Austria</th>\n",
       "      <td>320</td>\n",
       "    </tr>\n",
       "    <tr>\n",
       "      <th>Russian Federation</th>\n",
       "      <td>274</td>\n",
       "    </tr>\n",
       "  </tbody>\n",
       "</table>\n",
       "</div>"
      ],
      "text/plain": [
       "                    count\n",
       "origin_country           \n",
       "Ireland              6608\n",
       "United States        5811\n",
       "United Kingdom       4832\n",
       "France               3444\n",
       "Italy                2333\n",
       "Germany              2170\n",
       "Spain                1759\n",
       "Canada               1085\n",
       "Australia             962\n",
       "Netherlands           843\n",
       "Brazil                636\n",
       "Switzerland           535\n",
       "Belgium               386\n",
       "Austria               320\n",
       "Russian Federation    274"
      ]
     },
     "execution_count": 33,
     "metadata": {},
     "output_type": "execute_result"
    }
   ],
   "source": [
    "search_origin = searches.groupby(\"origin_country\").agg({\"origin_country\":\"count\"})\n",
    "search_origin.columns = [\"count\"]\n",
    "\n",
    "searche_origin = search_origin.sort_values(\"count\",ascending = False)\n",
    "searche_origin.nlargest(15,\"count\")                                  \n",
    "    "
   ]
  },
  {
   "cell_type": "code",
   "execution_count": null,
   "id": "3e2b95df",
   "metadata": {},
   "outputs": [],
   "source": []
  },
  {
   "cell_type": "markdown",
   "id": "7836fecc",
   "metadata": {},
   "source": [
    "### contact DataSet"
   ]
  },
  {
   "cell_type": "code",
   "execution_count": 34,
   "id": "f1d93d36",
   "metadata": {},
   "outputs": [],
   "source": [
    "contacts['ts_accepted_at'].fillna('NaT', inplace = True)"
   ]
  },
  {
   "cell_type": "code",
   "execution_count": 35,
   "id": "a456ab33",
   "metadata": {},
   "outputs": [],
   "source": [
    "status = []\n",
    "for i in contacts.ts_accepted_at:\n",
    "    if i == \"NaT\":\n",
    "        status.append('Rejected')\n",
    "    else:\n",
    "        status.append('Accepted')"
   ]
  },
  {
   "cell_type": "code",
   "execution_count": 36,
   "id": "0f5e8d8c",
   "metadata": {},
   "outputs": [],
   "source": [
    "contacts['status'] = status"
   ]
  },
  {
   "cell_type": "code",
   "execution_count": 37,
   "id": "81bad3f6",
   "metadata": {},
   "outputs": [],
   "source": [
    "contact_status_msg = contacts.pivot_table(index = 'id_host' , columns = 'status' , values = 'n_messages' , aggfunc = 'sum').reset_index()"
   ]
  },
  {
   "cell_type": "code",
   "execution_count": 38,
   "id": "371fd890",
   "metadata": {},
   "outputs": [],
   "source": [
    "accepted_msg = contact_status_msg[['id_host','Accepted']].sort_values(by = 'Accepted',ascending = False).head()"
   ]
  },
  {
   "cell_type": "code",
   "execution_count": 39,
   "id": "1c699b42",
   "metadata": {},
   "outputs": [],
   "source": [
    "rejected_msg = contact_status_msg[['id_host','Rejected']].sort_values(by = 'Rejected',ascending = False).head()"
   ]
  },
  {
   "cell_type": "code",
   "execution_count": 40,
   "id": "a36fc1e9",
   "metadata": {},
   "outputs": [
    {
     "data": {
      "image/png": "[encoded data removed]",
      "text/plain": [
       "<Figure size 640x480 with 2 Axes>"
      ]
     },
     "metadata": {},
     "output_type": "display_data"
    }
   ],
   "source": [
    "x = accepted_msg['id_host']\n",
    "y = accepted_msg['Accepted']\n",
    "plt.subplot(1,2,1)\n",
    "plt.bar(x,y)\n",
    "plt.xticks(rotation = 90)\n",
    "plt.xlabel('Host_id')\n",
    "plt.ylabel('Number of Messages')\n",
    "plt.title('Booking Accepted')\n",
    "x = rejected_msg['id_host']\n",
    "y = rejected_msg['Rejected']\n",
    "plt.subplot(1,2,2)\n",
    "plt.bar(x,y)\n",
    "plt.xticks(rotation = 90)\n",
    "plt.xlabel('Host_id')\n",
    "plt.title('Booking Rejected')\n",
    "plt.show()"
   ]
  },
  {
   "cell_type": "markdown",
   "id": "1716709e",
   "metadata": {},
   "source": [
    "Top 5 Most Messeged Dublin Hosts & Their Booking Acceptance Rate."
   ]
  },
  {
   "cell_type": "code",
   "execution_count": 43,
   "id": "3f39cc5a",
   "metadata": {},
   "outputs": [],
   "source": [
    "contacts['Time_taken_rply'] = contacts['ts_reply_at'] - contacts['ts_contact_at']"
   ]
  },
  {
   "cell_type": "code",
   "execution_count": 44,
   "id": "9c0d13c0",
   "metadata": {},
   "outputs": [],
   "source": [
    "Time_taken_rply = []\n",
    "for i in range(len(contacts)):\n",
    "    try:\n",
    "        Time_taken_rply.append(abs(contacts['Time_taken_rply'][i]).total_seconds() / 3600)\n",
    "    except Exception:\n",
    "        Time_taken_rply.append(np.nan)"
   ]
  },
  {
   "cell_type": "code",
   "execution_count": 45,
   "id": "fd8da45b",
   "metadata": {},
   "outputs": [],
   "source": [
    "contacts['Time_taken_rply'] = Time_taken_rply"
   ]
  },
  {
   "cell_type": "code",
   "execution_count": 46,
   "id": "61430e7c",
   "metadata": {},
   "outputs": [
    {
     "data": {
      "text/html": [
       "<div>\n",
       "<style scoped>\n",
       "    .dataframe tbody tr th:only-of-type {\n",
       "        vertical-align: middle;\n",
       "    }\n",
       "\n",
       "    .dataframe tbody tr th {\n",
       "        vertical-align: top;\n",
       "    }\n",
       "\n",
       "    .dataframe thead th {\n",
       "        text-align: right;\n",
       "    }\n",
       "</style>\n",
       "<table border=\"1\" class=\"dataframe\">\n",
       "  <thead>\n",
       "    <tr style=\"text-align: right;\">\n",
       "      <th></th>\n",
       "      <th>id_guest</th>\n",
       "      <th>id_host</th>\n",
       "      <th>id_listing</th>\n",
       "      <th>ts_contact_at</th>\n",
       "      <th>ts_reply_at</th>\n",
       "      <th>ts_accepted_at</th>\n",
       "      <th>ts_booking_at</th>\n",
       "      <th>ds_checkin</th>\n",
       "      <th>ds_checkout</th>\n",
       "      <th>n_guests</th>\n",
       "      <th>n_messages</th>\n",
       "      <th>status</th>\n",
       "      <th>accepted</th>\n",
       "      <th>length_stay</th>\n",
       "      <th>Time_taken_rply</th>\n",
       "    </tr>\n",
       "  </thead>\n",
       "  <tbody>\n",
       "    <tr>\n",
       "      <th>0</th>\n",
       "      <td>000dfad9-459b-4f0b-8310-3d6ab34e4f57</td>\n",
       "      <td>13bb24b8-d432-43a2-9755-5ea11b43bb69</td>\n",
       "      <td>21d2b1a2-fdc3-4b4c-a1f0-0eaf0cc02370</td>\n",
       "      <td>2014-10-04 16:26:28</td>\n",
       "      <td>2014-10-04 16:26:28</td>\n",
       "      <td>2014-10-04 16:26:28</td>\n",
       "      <td>2014-10-04 16:26:28</td>\n",
       "      <td>2014-10-13</td>\n",
       "      <td>2014-10-15</td>\n",
       "      <td>2</td>\n",
       "      <td>13</td>\n",
       "      <td>Accepted</td>\n",
       "      <td>True</td>\n",
       "      <td>2 days</td>\n",
       "      <td>0.000000</td>\n",
       "    </tr>\n",
       "    <tr>\n",
       "      <th>1</th>\n",
       "      <td>00197051-c6cb-4c3a-99e9-86615b819874</td>\n",
       "      <td>46aa3897-9c00-4d76-ac66-a307593d0675</td>\n",
       "      <td>fb5ed09a-9848-4f2c-b2ef-34deb62164fb</td>\n",
       "      <td>2014-11-04 09:10:03</td>\n",
       "      <td>2014-11-04 09:45:50</td>\n",
       "      <td>2014-11-04 09:45:50</td>\n",
       "      <td>2014-11-04 12:20:46</td>\n",
       "      <td>2014-11-27</td>\n",
       "      <td>2014-11-30</td>\n",
       "      <td>1</td>\n",
       "      <td>10</td>\n",
       "      <td>Accepted</td>\n",
       "      <td>True</td>\n",
       "      <td>3 days</td>\n",
       "      <td>0.596389</td>\n",
       "    </tr>\n",
       "  </tbody>\n",
       "</table>\n",
       "</div>"
      ],
      "text/plain": [
       "                               id_guest                               id_host  \\\n",
       "0  000dfad9-459b-4f0b-8310-3d6ab34e4f57  13bb24b8-d432-43a2-9755-5ea11b43bb69   \n",
       "1  00197051-c6cb-4c3a-99e9-86615b819874  46aa3897-9c00-4d76-ac66-a307593d0675   \n",
       "\n",
       "                             id_listing       ts_contact_at  \\\n",
       "0  21d2b1a2-fdc3-4b4c-a1f0-0eaf0cc02370 2014-10-04 16:26:28   \n",
       "1  fb5ed09a-9848-4f2c-b2ef-34deb62164fb 2014-11-04 09:10:03   \n",
       "\n",
       "          ts_reply_at      ts_accepted_at       ts_booking_at ds_checkin  \\\n",
       "0 2014-10-04 16:26:28 2014-10-04 16:26:28 2014-10-04 16:26:28 2014-10-13   \n",
       "1 2014-11-04 09:45:50 2014-11-04 09:45:50 2014-11-04 12:20:46 2014-11-27   \n",
       "\n",
       "  ds_checkout  n_guests  n_messages    status  accepted length_stay  \\\n",
       "0  2014-10-15         2          13  Accepted      True      2 days   \n",
       "1  2014-11-30         1          10  Accepted      True      3 days   \n",
       "\n",
       "   Time_taken_rply  \n",
       "0         0.000000  \n",
       "1         0.596389  "
      ]
     },
     "execution_count": 46,
     "metadata": {},
     "output_type": "execute_result"
    }
   ],
   "source": [
    "contacts.head(2)"
   ]
  },
  {
   "cell_type": "code",
   "execution_count": null,
   "id": "f635e035",
   "metadata": {},
   "outputs": [],
   "source": [
    "avg_to_rply = contacts.groupby('status')[['Time_taken_rply']].mean(numeric_only = True).reset_index()"
   ]
  },
  {
   "cell_type": "code",
   "execution_count": null,
   "id": "53f37927",
   "metadata": {},
   "outputs": [],
   "source": [
    "avg_to_rply"
   ]
  },
  {
   "cell_type": "code",
   "execution_count": null,
   "id": "3856c4e9",
   "metadata": {
    "scrolled": true
   },
   "outputs": [],
   "source": [
    "x = avg_to_rply['status']\n",
    "y = avg_to_rply['Time_taken_rply']\n",
    "plt.bar(x,y)\n",
    "plt.ylabel('Avg. Hours Taken for Reply Guesst')\n",
    "plt.show()"
   ]
  },
  {
   "cell_type": "markdown",
   "id": "017a4c48",
   "metadata": {},
   "source": [
    "Hosts take on average 5 hrs. to accpect the booking and take on average 14 hrs. to reject the booking."
   ]
  },
  {
   "cell_type": "code",
   "execution_count": null,
   "id": "10713d4e",
   "metadata": {},
   "outputs": [],
   "source": [
    "no_of_days = []\n",
    "for i in range(len(contacts)):\n",
    "    no_of_days.append(abs(contacts['ds_checkout'][i] - contacts['ds_checkin'][i]).total_seconds() / (3600*24))"
   ]
  },
  {
   "cell_type": "code",
   "execution_count": null,
   "id": "2d1dcc4c",
   "metadata": {},
   "outputs": [],
   "source": [
    "contacts['No_of_days'] = no_of_days"
   ]
  },
  {
   "cell_type": "code",
   "execution_count": null,
   "id": "fb924215",
   "metadata": {},
   "outputs": [],
   "source": [
    "avg_days = contacts.groupby('status')[['No_of_days']].mean().reset_index()"
   ]
  },
  {
   "cell_type": "code",
   "execution_count": null,
   "id": "c43349d7",
   "metadata": {
    "scrolled": false
   },
   "outputs": [],
   "source": [
    "x = avg_days['status']\n",
    "y = avg_days['No_of_days']\n",
    "plt.bar(x,y)\n",
    "plt.ylabel('Avg. Days')\n",
    "plt.show()"
   ]
  },
  {
   "cell_type": "markdown",
   "id": "606fc06d",
   "metadata": {},
   "source": [
    "Host is intrest to accpect the guest who stays less than 5 days."
   ]
  },
  {
   "cell_type": "code",
   "execution_count": null,
   "id": "398705f9",
   "metadata": {
    "scrolled": true
   },
   "outputs": [],
   "source": [
    "contacts.head(1)"
   ]
  },
  {
   "cell_type": "code",
   "execution_count": 42,
   "id": "a4d3bc50",
   "metadata": {},
   "outputs": [],
   "source": [
    "contacts[\"ts_contact_at\"] = pd.to_datetime(contacts[\"ts_contact_at\"])\n",
    "contacts[\"ts_reply_at\"] = pd.to_datetime(contacts[\"ts_reply_at\"])\n",
    "contacts[\"ts_accepted_at\"] = pd.to_datetime(contacts[\"ts_accepted_at\"])\n",
    "contacts[\"ts_booking_at\"] = pd.to_datetime(contacts[\"ts_booking_at\"])\n",
    "contacts[\"ds_checkin\"] = pd.to_datetime(contacts[\"ds_checkin\"])\n",
    "contacts[\"ds_checkout\"] = pd.to_datetime(contacts[\"ds_checkout\"])\n",
    "contacts[\"accepted\"] = np.where(np.isnan(contacts[\"ts_accepted_at\"]),False,True)\n",
    "contacts[\"length_stay\"] = contacts[\"ds_checkout\"] - contacts[\"ds_checkin\"]"
   ]
  },
  {
   "cell_type": "code",
   "execution_count": null,
   "id": "163c1df0",
   "metadata": {},
   "outputs": [],
   "source": [
    "contacts.describe()"
   ]
  },
  {
   "cell_type": "code",
   "execution_count": null,
   "id": "ee76ddcd",
   "metadata": {},
   "outputs": [],
   "source": [
    "contacts.dtypes"
   ]
  },
  {
   "cell_type": "code",
   "execution_count": null,
   "id": "b730588f",
   "metadata": {},
   "outputs": [],
   "source": [
    "df.skew(axis = 0 , numeric_only= True , skipna = True)"
   ]
  },
  {
   "cell_type": "code",
   "execution_count": null,
   "id": "e1c81d3c",
   "metadata": {},
   "outputs": [],
   "source": [
    "# No of Guests stayed\n",
    "contacts_less8 = contacts[contacts['n_guests'] < 8]\n",
    "sns.displot(contacts_less8,x ='n_guests',hue ='status',multiple ='dodge')\n",
    "plt.show()"
   ]
  },
  {
   "cell_type": "markdown",
   "id": "8e7b97f7",
   "metadata": {},
   "source": [
    "Choosing less than 8 guests, since only 1.46% (1 14 values) of the contacts dataset has 8 or more guests. To better visualize the majority distribution we removed rows with 8 or more guests.\n",
    "\n",
    "2 guests is the most popular option to book, but 1 guest is the most popularly searched option. This leads me to believe there is a lack of supply of viable single guest rooms."
   ]
  },
  {
   "cell_type": "code",
   "execution_count": null,
   "id": "5678bf1f",
   "metadata": {},
   "outputs": [],
   "source": [
    "#Conversion rate from accepting to booking\n",
    "contacts['ts_booking_at'].count() / contacts['ts_accepted_at'].count()"
   ]
  },
  {
   "cell_type": "code",
   "execution_count": null,
   "id": "1ef999cf",
   "metadata": {},
   "outputs": [],
   "source": [
    "contacts['month_checkin'] = contacts['ds_checkin'].dt.month\n",
    "contacts_checkin_month = contacts[contacts['month_checkin'] > 9] # use only peak season month (oct , nov , dec)"
   ]
  },
  {
   "cell_type": "code",
   "execution_count": null,
   "id": "91ef53b5",
   "metadata": {},
   "outputs": [],
   "source": [
    "sns.displot(contacts_checkin_month, x = 'month_checkin' , hue = 'accepted' , multiple = 'dodge')\n",
    "plt.xticks([10,11,12])\n",
    "plt.show()"
   ]
  },
  {
   "cell_type": "code",
   "execution_count": null,
   "id": "3d904907",
   "metadata": {},
   "outputs": [],
   "source": [
    "#merged datasets for more analysis\n",
    "merged_datasets = contacts.merge(searches,left_on=\"id_guest\",right_on=\"id_user\")"
   ]
  },
  {
   "cell_type": "code",
   "execution_count": null,
   "id": "297ac54c",
   "metadata": {},
   "outputs": [],
   "source": [
    "merged_pricemax_filter = merged_datasets.loc[(merged_datasets[\"filter_price_max\"] <=600)]\n",
    "sns.displot(merged_pricemax_filter,x=\"filter_price_max\",hue=\"accepted\",multiple=\"dodge\")\n",
    "plt.show()"
   ]
  },
  {
   "cell_type": "markdown",
   "id": "19d940e5",
   "metadata": {},
   "source": [
    "to further help better visualize the trend we set the filter price max as less or equal to 600.600was choosen as the limit\n",
    "since only 14.25% of the dataset has values grather than 600\n",
    "\n",
    "As seen,more people are reject compared than acceptd with an average acceptance rate of 43%"
   ]
  },
  {
   "cell_type": "code",
   "execution_count": null,
   "id": "2ac14a9a",
   "metadata": {},
   "outputs": [],
   "source": [
    "def label_price(row):\n",
    "    if(row[\"filter_price_max\"] >= 0) & (row[\"filter_price_max\"] < 100):\n",
    "        return \"0-100\"\n",
    "    elif(row[\"filter_price_max\"] >= 100) & (row[\"filter_price_max\"] < 200):\n",
    "        return \"100-200\"\n",
    "    elif(row[\"filter_price_max\"] >=200) & (row[\"filter_price_max\"] < 300):\n",
    "        return \"200-300\"\n",
    "    elif(row[\"filter_price_max\"] >= 300) & (row[\"filter_price_max\"] < 400):\n",
    "        return \"300-400\"\n",
    "    elif(row[\"filter_price_max\"] >= 400) & (row[\"filter_price_max\"] < 500):\n",
    "        return \"400-500\"\n",
    "    elif(row[\"filter_price_max\"] >= 500) & (row[\"filter_price_max\"] < 600):\n",
    "        return \"500-600\"\n",
    "    else:\n",
    "        return \"600+\"\n",
    "\n",
    "    \n",
    "merged_datasets[\"classification_max_price\"] = merged_datasets.apply(lambda row: label_price(row),axis = 1)\n",
    "merged_datasets.groupby(\"classification_max_price\").agg({\"accepted\":\"mean\"})\n",
    "    \n",
    "    \n",
    "    \n",
    "    \n",
    "    \n",
    "    "
   ]
  },
  {
   "cell_type": "code",
   "execution_count": null,
   "id": "fcc5f49f",
   "metadata": {},
   "outputs": [],
   "source": []
  }
 ],
 "metadata": {
  "kernelspec": {
   "display_name": "Python 3 (ipykernel)",
   "language": "python",
   "name": "python3"
  },
  "language_info": {
   "codemirror_mode": {
    "name": "ipython",
    "version": 3
   },
   "file_extension": ".py",
   "mimetype": "text/x-python",
   "name": "python",
   "nbconvert_exporter": "python",
   "pygments_lexer": "ipython3",
   "version": "3.10.9"
  }
 },
 "nbformat": 4,
 "nbformat_minor": 5
}
